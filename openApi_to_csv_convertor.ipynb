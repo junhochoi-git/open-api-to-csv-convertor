{
  "nbformat": 4,
  "nbformat_minor": 0,
  "metadata": {
    "colab": {
      "name": "openApi-to-csv-convertor.ipynb",
      "provenance": [],
      "collapsed_sections": [],
      "authorship_tag": "ABX9TyP1AxxGah5EvsWYZMRudf4L",
      "include_colab_link": true
    },
    "kernelspec": {
      "name": "python3",
      "display_name": "Python 3"
    },
    "language_info": {
      "name": "python"
    }
  },
  "cells": [
    {
      "cell_type": "markdown",
      "metadata": {
        "id": "view-in-github",
        "colab_type": "text"
      },
      "source": [
        "<a href=\"https://colab.research.google.com/github/junhochoi-git/open-api-to-csv-convertor/blob/main/openApi_to_csv_convertor.ipynb\" target=\"_parent\"><img src=\"https://colab.research.google.com/assets/colab-badge.svg\" alt=\"Open In Colab\"/></a>"
      ]
    },
    {
      "cell_type": "markdown",
      "metadata": {
        "id": "denryY66OHTp"
      },
      "source": [
        "### 오픈 API로 특정 URL 을 형식에 맞게 요청하여 데이터를 응답받을때, 응답받은 데이터를 CSV파일로 변환하는 코드를 작성함"
      ]
    },
    {
      "cell_type": "code",
      "metadata": {
        "colab": {
          "base_uri": "https://localhost:8080/",
          "height": 376
        },
        "id": "n27wZi7COW6U",
        "outputId": "4e4969be-05eb-4477-9bcd-ac8dd87913bf"
      },
      "source": [
        "# sample Open API links\n",
        "# https://www.data.go.kr/iim/api/selectAPIAcountView.do\n",
        "\n",
        "import requests\n",
        "import pandas as pd\n",
        "\n",
        "month = [\"01\",\"02\",\"03\",\"04\",\"05\",\"06\",\"07\",\"08\",\"09\",\"10\",\"11\",\"12\"]\n",
        "\n",
        "# -- 특정 달 데이터만 csv파일로 만든다 \n",
        "def extract_data(endpoint,useYear,m_idx,sx): #1. endpoint, Year, from Jan to Dec, and \"여자\" or \"남자\"의 성별 \n",
        "    \n",
        "    # 요청 파라미터\n",
        "    service_key = \"WRITE_YOUR_OWN_SERVICE_KEY_HERE\" # 제가 요청한 서비스키\n",
        "    numOfRows = 50\n",
        "    pageNo = 0\n",
        "    viewType = \"json\"\n",
        "    useYymm=\"2020\" \n",
        "    sxClNm=sx\n",
        "    # 요청 폼\n",
        "\n",
        "    page_cnt = 1\n",
        "    result = [] # 각 json 데이터를 dict형들의 리스트로 담고 있는 전체 리스트\n",
        "\n",
        "    useYymm += month[m_idx] # 최초에 \"202001\"로 설정\n",
        "    \n",
        "    while m_idx < 12: \n",
        "\n",
        "        pageNo = page_cnt\n",
        "        req = f\"{endpoint}?serviceKey={service_key}&numOfRows={numOfRows}&pageNo={pageNo}&useYymm={useYymm}&sxClNm={sxClNm}\"\n",
        "        req += f\"&viewType={viewType}\"\n",
        "        \n",
        "        # API 호출\n",
        "        resp = requests.get(req)\n",
        "        temp = resp.json()\n",
        "        \n",
        "        if not temp['response']['body']['items']: # 해당 달의 데이터를 모두 가져왔다면, month 증가, page_cnt = 1 부터 다시 요청 \n",
        "            page_cnt = 1\n",
        "            # m_idx += 1 # 01월 ~ 12월 까지 정보를 한번에 얻고 싶을땐, 아래 break 문은 주석처리하고 m_idx는 주석해제\n",
        "            useYymm = \"2020\" + month[m_idx]\n",
        "            # 현재 한달치 자료만 추출 \n",
        "            break # -- 한번에 01월 부터 12월 까지 추출 및 csv 파일 변환을 원한다면 break 해제하기\n",
        "        \n",
        "        result += temp['response']['body']['items']\n",
        "        page_cnt += 1\n",
        "        # print(f\"{page_cnt}p , {m_idx}\")\n",
        "    return result\n",
        "\n",
        "def save_csv(_list, sx, year,month):\n",
        "    df_items = pd.DataFrame(_list)\n",
        "    df_items.to_csv(f\"맞춤형복지_신용카드_소비내역_정보_{sx}성_{year}_{month}.csv\", encoding=\"utf-8-sig\")\n",
        "\n",
        "endpoint = \"http://apis.data.go.kr/B552640/GwpCardUseDtlInfoService/selectListUseDtl\"\n",
        "\n",
        "\n",
        "for i in range(0,11):   \n",
        "    result = extract_data(endpoint,\"2020\",i,\"여\")\n",
        "    print(len(result))\n",
        "    save_csv(result, \"여\",2020,month[i])"
      ],
      "execution_count": null,
    },
    {
      "cell_type": "markdown",
      "metadata": {
        "id": "yNr-7sboVcK2"
      },
      "source": [
        "### 하루 트래픽을 초과하면 응답이 제대로 되지 않아 해당 코드가 작동을 안함을 주의"
      ]
    }
  ]
}
